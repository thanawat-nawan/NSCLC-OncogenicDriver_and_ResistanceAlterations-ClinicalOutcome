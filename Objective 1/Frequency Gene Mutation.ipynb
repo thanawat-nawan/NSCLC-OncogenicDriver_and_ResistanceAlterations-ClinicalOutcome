{
 "cells": [
  {
   "metadata": {},
   "cell_type": "markdown",
   "source": "# Class",
   "id": "6b2fbe0038428f08"
  },
  {
   "metadata": {
    "ExecuteTime": {
     "end_time": "2025-07-28T09:53:59.313079Z",
     "start_time": "2025-07-28T09:53:59.301529Z"
    }
   },
   "cell_type": "code",
   "source": [
    "import numpy as np\n",
    "\n",
    "class DataExtraction:\n",
    "    def __init__(self, dataframe):\n",
    "        self.dataframe = dataframe\n",
    "\n",
    "    def remove_data_missing(self):\n",
    "        self.dataframe = self.dataframe[\n",
    "            (self.dataframe['status'] == \"Completed\") &\n",
    "            (self.dataframe['Code'].notnull())\n",
    "        ]\n",
    "        return self.dataframe\n",
    "\n",
    "    def remove_unnecessary_data(self, analysis_columns):\n",
    "        self.dataframe = self.dataframe[analysis_columns]\n",
    "        return self.dataframe\n",
    "\n",
    "    def filter_specimen(self, blood_specimens, tissue_specimens):\n",
    "        self.dataframe = self.dataframe[\n",
    "            (self.dataframe['type'].isin(blood_specimens)) |\n",
    "            (self.dataframe['type'].isin(tissue_specimens))\n",
    "        ]\n",
    "        return self.dataframe\n",
    "\n",
    "    def filter_diagnosis(self, non_small_cell_lung_cancer, lung_cancer, metastasis, squamous_cell_carcinoma):\n",
    "        conditions = [\n",
    "            (self.dataframe['Diag'].isin(non_small_cell_lung_cancer)),\n",
    "            (self.dataframe['Diag'].isin(lung_cancer)),\n",
    "            (self.dataframe['Diag'].isin(metastasis)),\n",
    "            (self.dataframe['Diag'].isin(squamous_cell_carcinoma)),\n",
    "        ]\n",
    "        diagnosis_groups = [\n",
    "            \"Non small cell lung cancer\",\n",
    "            \"Lung cancer\",\n",
    "            \"Metastasis\",\n",
    "            \"Squamous cell carcinoma\"\n",
    "        ]\n",
    "        self.dataframe['diagnosis_group'] = np.select(conditions, diagnosis_groups, default='Other')\n",
    "        self.dataframe = self.dataframe.drop(columns=['Diag'])\n",
    "        return self.dataframe\n",
    "\n",
    "    def create_dictionary(self):\n",
    "        for i in range(self.dataframe.__len__):\n",
    "            code = self.dataframe['Code'][i]\n",
    "\n",
    "        code_dictionary = {\n",
    "            \"code\": {\n",
    "                \"code\": str,\n",
    "                \"times\": int,\n",
    "                \"Time_X\": {\n",
    "                    \"age\": int,\n",
    "                    \"sex\": str,\n",
    "                    \"source\": str,\n",
    "                    \"tumor_percentage\": float,\n",
    "                    \"method\": {dict},\n",
    "                    \"result\": {dict},\n",
    "                    \"diagnosis\": str\n",
    "                }\n",
    "            }\n",
    "        }"
   ],
   "id": "f6cedb15cb50b0f2",
   "outputs": [],
   "execution_count": 26
  },
  {
   "metadata": {
    "ExecuteTime": {
     "end_time": "2025-07-28T10:07:43.253880Z",
     "start_time": "2025-07-28T10:07:43.250494Z"
    }
   },
   "cell_type": "code",
   "source": [
    "class Utility:\n",
    "    def __init__(self, dataframe):\n",
    "        self.dataframe = dataframe\n",
    "        self.unique_item = {}\n",
    "\n",
    "    def exact_unique_item(self):\n",
    "        for column in self.dataframe.columns:\n",
    "            if self.dataframe[column].dtype == 'object':\n",
    "                self.dataframe[column] = self.dataframe[column].astype('str')\n",
    "                try:\n",
    "                    self.unique_item[column] = {}\n",
    "                    for i in self.dataframe[column]:\n",
    "                        if i != i:\n",
    "                            self.unique_item[column] = self.unique_item[column].get(\"nan value\", 0) + 1\n",
    "                        else:\n",
    "                            if i in self.unique_item[column]:\n",
    "                                self.unique_item[column][i] += 1\n",
    "                            else:\n",
    "                                self.unique_item[column][i] = 1\n",
    "                except TypeError as e:\n",
    "                    print(f\"The column {column} has an error: {e}\")\n",
    "        return self.unique_item"
   ],
   "id": "93d4ad1099298f57",
   "outputs": [],
   "execution_count": 42
  },
  {
   "metadata": {},
   "cell_type": "markdown",
   "source": "# Prototype",
   "id": "642bf9a144be5a61"
  },
  {
   "cell_type": "code",
   "id": "initial_id",
   "metadata": {
    "collapsed": true,
    "ExecuteTime": {
     "end_time": "2025-07-28T09:07:43.882937Z",
     "start_time": "2025-07-28T09:07:39.756013Z"
    }
   },
   "source": [
    "import pandas as pd\n",
    "\n",
    "data_path = \"/home/thanawat-nawan/NSCLC-OncogenicDriver_and_ResistanceAlterations-ClinicalOutcome/Data/NSCLC Data Collection revised 14.05.2568.xlsx\"\n",
    "total_patient = pd.read_excel(data_path, sheet_name=0)"
   ],
   "outputs": [],
   "execution_count": 2
  },
  {
   "metadata": {
    "ExecuteTime": {
     "end_time": "2025-07-28T09:17:39.767552Z",
     "start_time": "2025-07-28T09:17:39.763581Z"
    }
   },
   "cell_type": "code",
   "source": [
    "# Removing missing data and separate blood and tissue specimens and\n",
    "# Exact columns that used in analysis\n",
    "\n",
    "blood_specimen_list = [\"Blood, PAXgene\", \"Blood, Streck\", \"Blood, Roche\", \"Effusion, Pleural\", \"FNA\"]\n",
    "tissue_specimen_list = [\"Tissue, FFPE\", \"Tissue, Fresh\", \"Cytological slide\", \"Slide, stained\"]\n",
    "\n",
    "analysis_columns = [\"Code\", \"type\", \"Age\", \"SEX\", \"test\", \"Diag\", \"cost\", \"Specimen Type\", \"Source\", \"%tumor\", \"Method1\", \"Result1\", \"Method2\", \"Result2\", \"Method3\", \"Result3\", \"Method4\", \"Result4\", \"Method5\", \"Result5\"]\n",
    "\n",
    "# Grouping diagnosis into 4 groups: Non-small cell lung cancer (NSCLC), Lung cancer, Metastasis, Squamous cell carcinoma\n",
    "non_small_cell_lung_cancer_list = [\n",
    "    \"Non-small cell lung cancer\", \"Non-small cell carcinoma\", \"non-small cell lung cancer\", \"non-small cell carcinoma\", \"Non small cell lung cancer\", \"Recurrent Non-small cell lung cancer\", \"Large cell lung carcinoma\", \"Large cell carcinoma\"]\n",
    "lung_cancer_list = [\"Lung carcinoma\", \"Lung adenocarcinoma\", \"Lung cancer\", \"Lung pleomorphic carcinoma\"]\n",
    "metastasis_list = [\"Metastatic adenocarcinoma\", \"Metastatic carcinoma\", \"Metastatic cancer\", \"Metastatic brain cancer\"]\n",
    "squamous_cell_carcinoma = [\"Squamous cell carcinoma\", \"squamous cell carcinoma\", \"Squamous cell lung cancer\", \"Squamous cell Carcinoma\"]"
   ],
   "id": "15876d369307608e",
   "outputs": [],
   "execution_count": 11
  },
  {
   "metadata": {
    "ExecuteTime": {
     "end_time": "2025-07-28T09:53:23.199242Z",
     "start_time": "2025-07-28T09:53:23.176270Z"
    }
   },
   "cell_type": "code",
   "source": [
    "data = DataExtraction(total_patient)\n",
    "data.remove_data_missing()\n",
    "data.filter_specimen(blood_specimen_list, tissue_specimen_list)\n",
    "data.remove_unnecessary_data(analysis_columns)\n",
    "already = data.filter_diagnosis(non_small_cell_lung_cancer_list, lung_cancer_list, metastasis_list, squamous_cell_carcinoma)"
   ],
   "id": "e8a264565f486ae6",
   "outputs": [],
   "execution_count": 25
  },
  {
   "metadata": {
    "ExecuteTime": {
     "end_time": "2025-07-28T09:18:20.210782Z",
     "start_time": "2025-07-28T09:18:20.204339Z"
    }
   },
   "cell_type": "code",
   "source": [
    "from exact_unique_item import *\n",
    "unique = UniqueItem(total_patient, ['test'])\n",
    "unique.count_unique_items()"
   ],
   "id": "d529f01c8c961ee0",
   "outputs": [
    {
     "data": {
      "text/plain": [
       "{'EGFR mutation': 3756,\n",
       " 'EGFR T790M mutation': 843,\n",
       " 'Lung cancer actionable mutation panel & Lung cancer fusion ': 27,\n",
       " 'EGFR mutation & BRAF mutation': 256,\n",
       " 'EGFR mutation & T790M mutation': 45,\n",
       " 'EGFR mutation ': 185,\n",
       " 'Lung cancer actionable mutation panel': 89,\n",
       " 'Comprehensive EGFR mutation panel': 40,\n",
       " 'Lung cancer actionable mutation panel & Lung cancer fusion': 220,\n",
       " 'KRAS reflex NRAS/BRAF mutation': 2,\n",
       " 'EGFR mutation+Lung cancer actionable mutation panel (EGFR mutation)': 1,\n",
       " 'EGFR mutation & Lung cancer actionable mutation panel & Lung cancer fusion': 1,\n",
       " 'Lung cancer actionable mutation panel ': 3,\n",
       " 'KRAS,NRAS and BRAF mutation': 1,\n",
       " 'EGFR mutation and Lung cancer actionable mutation panel': 2,\n",
       " 'EGFR T790M mutation ': 15,\n",
       " 'Solid tumors actionable mutation panel': 1,\n",
       " 'Lung cancer fusion': 92,\n",
       " 'EGFR mutation & Lung cancer fusion': 13,\n",
       " 'Comprehensive EGFR mutation panel & Lung cancer fusion': 19,\n",
       " 'KRAS mutation': 4,\n",
       " 'EGFR mutation & BRAF mutation & Lung cancer fusion': 2,\n",
       " 'Lung cancer actionable mutation panel & Lung cancer fusion & EGFR T790M mutation': 1}"
      ]
     },
     "execution_count": 13,
     "metadata": {},
     "output_type": "execute_result"
    }
   ],
   "execution_count": 13
  }
 ],
 "metadata": {
  "kernelspec": {
   "display_name": "Python 3",
   "language": "python",
   "name": "python3"
  },
  "language_info": {
   "codemirror_mode": {
    "name": "ipython",
    "version": 2
   },
   "file_extension": ".py",
   "mimetype": "text/x-python",
   "name": "python",
   "nbconvert_exporter": "python",
   "pygments_lexer": "ipython2",
   "version": "2.7.6"
  }
 },
 "nbformat": 4,
 "nbformat_minor": 5
}
