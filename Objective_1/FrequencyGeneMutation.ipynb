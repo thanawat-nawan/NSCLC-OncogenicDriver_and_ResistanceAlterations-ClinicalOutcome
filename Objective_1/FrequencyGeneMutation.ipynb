{
 "cells": [
  {
   "metadata": {},
   "cell_type": "markdown",
   "source": "# Class",
   "id": "6b2fbe0038428f08"
  },
  {
   "metadata": {
    "ExecuteTime": {
     "end_time": "2025-07-29T13:26:05.211728Z",
     "start_time": "2025-07-29T13:26:05.159182Z"
    }
   },
   "cell_type": "code",
   "source": "from research_package.data_extraction.format_json import FormatJSON",
   "id": "f6cedb15cb50b0f2",
   "outputs": [],
   "execution_count": 1
  },
  {
   "metadata": {},
   "cell_type": "markdown",
   "source": "# Prototype",
   "id": "642bf9a144be5a61"
  },
  {
   "cell_type": "code",
   "id": "initial_id",
   "metadata": {
    "collapsed": true,
    "jupyter": {
     "is_executing": true
    },
    "ExecuteTime": {
     "start_time": "2025-07-29T13:26:05.338425Z"
    }
   },
   "source": [
    "import pandas as pd\n",
    "\n",
    "data_path = \"/home/thanawat-nawan/NSCLC-OncogenicDriver_and_ResistanceAlterations-ClinicalOutcome/Data/NSCLC Data Collection revised 14.05.2568.xlsx\"\n",
    "total_patient = pd.read_excel(data_path, sheet_name=0)"
   ],
   "outputs": [],
   "execution_count": null
  },
  {
   "metadata": {
    "ExecuteTime": {
     "end_time": "2025-07-29T13:17:59.143079Z",
     "start_time": "2025-07-29T13:17:59.140159Z"
    }
   },
   "cell_type": "code",
   "source": [
    "# Removing missing data and separate blood and tissue specimens and\n",
    "# Exact columns that used in analysis\n",
    "\n",
    "blood_specimen_list = [\"Blood, PAXgene\", \"Blood, Streck\", \"Blood, Roche\", \"Effusion, Pleural\", \"FNA\"]\n",
    "tissue_specimen_list = [\"Tissue, FFPE\", \"Tissue, Fresh\", \"Cytological slide\", \"Slide, stained\"]\n",
    "\n",
    "analysis_columns = [\"Code\", \"type\", \"Age\", \"SEX\", \"test\", \"Diag\", \"cost\", \"Specimen Type\", \"Source\", \"%tumor\", \"Method1\", \"Result1\", \"Method2\", \"Result2\", \"Method3\", \"Result3\", \"Method4\", \"Result4\", \"Method5\", \"Result5\"]\n",
    "\n",
    "# Grouping diagnosis into 4 groups: Non-small cell lung cancer (NSCLC), Lung cancer, Metastasis, Squamous cell carcinoma\n",
    "non_small_cell_lung_cancer_list = [\n",
    "    \"Non-small cell lung cancer\", \"Non-small cell carcinoma\", \"non-small cell lung cancer\", \"non-small cell carcinoma\", \"Non small cell lung cancer\", \"Recurrent Non-small cell lung cancer\", \"Large cell lung carcinoma\", \"Large cell carcinoma\"]\n",
    "lung_cancer_list = [\"Lung carcinoma\", \"Lung adenocarcinoma\", \"Lung cancer\", \"Lung pleomorphic carcinoma\"]\n",
    "metastasis_list = [\"Metastatic adenocarcinoma\", \"Metastatic carcinoma\", \"Metastatic cancer\", \"Metastatic brain cancer\"]\n",
    "squamous_cell_carcinoma = [\"Squamous cell carcinoma\", \"squamous cell carcinoma\", \"Squamous cell lung cancer\", \"Squamous cell Carcinoma\"]"
   ],
   "id": "15876d369307608e",
   "outputs": [],
   "execution_count": 8
  },
  {
   "metadata": {
    "ExecuteTime": {
     "end_time": "2025-07-29T13:25:03.304781Z",
     "start_time": "2025-07-29T13:25:03.188074Z"
    }
   },
   "cell_type": "code",
   "source": [
    "data = FormatJSON(total_patient)\n",
    "data.remove_data_missing()\n",
    "data.filter_specimen(blood_specimen_list, tissue_specimen_list)\n",
    "data.remove_unnecessary_data(analysis_columns)\n",
    "df = data.filter_diagnosis(non_small_cell_lung_cancer_list, lung_cancer_list, metastasis_list, squamous_cell_carcinoma)\n",
    "data_dict = data.create_patient_dictionary()"
   ],
   "id": "e8a264565f486ae6",
   "outputs": [
    {
     "name": "stdout",
     "output_type": "stream",
     "text": [
      "The code at row 356 was not found in the dataframe.\n",
      "The code at row 622 was not found in the dataframe.\n",
      "The code at row 1391 was not found in the dataframe.\n",
      "The code at row 1579 was not found in the dataframe.\n"
     ]
    }
   ],
   "execution_count": 15
  }
 ],
 "metadata": {
  "kernelspec": {
   "display_name": "Python 3",
   "language": "python",
   "name": "python3"
  },
  "language_info": {
   "codemirror_mode": {
    "name": "ipython",
    "version": 2
   },
   "file_extension": ".py",
   "mimetype": "text/x-python",
   "name": "python",
   "nbconvert_exporter": "python",
   "pygments_lexer": "ipython2",
   "version": "2.7.6"
  }
 },
 "nbformat": 4,
 "nbformat_minor": 5
}
