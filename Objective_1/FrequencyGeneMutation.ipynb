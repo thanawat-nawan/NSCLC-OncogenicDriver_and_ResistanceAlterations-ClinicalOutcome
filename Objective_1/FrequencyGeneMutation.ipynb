{
 "cells": [
  {
   "metadata": {},
   "cell_type": "markdown",
   "source": "# Prototype Class",
   "id": "6b2fbe0038428f08"
  },
  {
   "metadata": {},
   "cell_type": "markdown",
   "source": "# Prototype",
   "id": "642bf9a144be5a61"
  },
  {
   "cell_type": "code",
   "id": "initial_id",
   "metadata": {
    "collapsed": true,
    "ExecuteTime": {
     "end_time": "2025-07-31T08:37:03.448636Z",
     "start_time": "2025-07-31T08:36:59.421977Z"
    }
   },
   "source": [
    "import pandas as pd\n",
    "\n",
    "data_path = \"/home/thanawat-nawan/NSCLC-OncogenicDriver_and_ResistanceAlterations-ClinicalOutcome/Data/NSCLC Data Collection revised 14.05.2568.xlsx\"\n",
    "total_patient = pd.read_excel(data_path, sheet_name=0)"
   ],
   "outputs": [],
   "execution_count": 1
  },
  {
   "metadata": {
    "ExecuteTime": {
     "end_time": "2025-07-31T08:37:03.603531Z",
     "start_time": "2025-07-31T08:37:03.599975Z"
    }
   },
   "cell_type": "code",
   "source": [
    "# Removing missing data and separate blood and tissue specimens and\n",
    "# Exact columns that used in analysis\n",
    "\n",
    "blood_specimen_list = [\"Blood, PAXgene\", \"Blood, Streck\", \"Blood, Roche\", \"Effusion, Pleural\", \"FNA\"]\n",
    "tissue_specimen_list = [\"Tissue, FFPE\", \"Tissue, Fresh\", \"Cytological slide\", \"Slide, stained\"]\n",
    "\n",
    "analysis_columns = [\"Code\", \"type\", \"Age\", \"SEX\", \"test\", \"Diag\", \"cost\", \"Specimen Type\", \"Source\", \"%tumor\", \"Method1\", \"Result1\", \"Method2\", \"Result2\", \"Method3\", \"Result3\", \"Method4\", \"Result4\", \"Method5\", \"Result5\"]\n",
    "\n",
    "# Grouping diagnosis into 4 groups: Non-small cell lung cancer (NSCLC), Lung cancer, Metastasis, Squamous cell carcinoma\n",
    "non_small_cell_lung_cancer_list = [\n",
    "    \"Non-small cell lung cancer\", \"Non-small cell carcinoma\", \"non-small cell lung cancer\", \"non-small cell carcinoma\", \"Non small cell lung cancer\", \"Recurrent Non-small cell lung cancer\", \"Large cell lung carcinoma\", \"Large cell carcinoma\"]\n",
    "lung_cancer_list = [\"Lung carcinoma\", \"Lung adenocarcinoma\", \"Lung cancer\", \"Lung pleomorphic carcinoma\"]\n",
    "metastasis_list = [\"Metastatic adenocarcinoma\", \"Metastatic carcinoma\", \"Metastatic cancer\", \"Metastatic brain cancer\"]\n",
    "squamous_cell_carcinoma = [\"Squamous cell carcinoma\", \"squamous cell carcinoma\", \"Squamous cell lung cancer\", \"Squamous cell Carcinoma\"]"
   ],
   "id": "15876d369307608e",
   "outputs": [],
   "execution_count": 2
  },
  {
   "metadata": {
    "ExecuteTime": {
     "end_time": "2025-07-31T08:37:03.996249Z",
     "start_time": "2025-07-31T08:37:03.668042Z"
    }
   },
   "cell_type": "code",
   "source": [
    "from research_package import FormatDataFrame\n",
    "data = FormatDataFrame(total_patient)\n",
    "data.remove_data_missing_with_reset_index()\n",
    "data.filter_specimen(blood_specimen_list, tissue_specimen_list)\n",
    "data.remove_unnecessary_data(analysis_columns)\n",
    "data.filter_diagnosis(non_small_cell_lung_cancer_list, lung_cancer_list, metastasis_list, squamous_cell_carcinoma)\n",
    "data.create_patient_dictionary()\n",
    "normalized_df = data.create_normalize_dataframe()\n",
    "normalized_df"
   ],
   "id": "df6fe5275ce24435",
   "outputs": [
    {
     "name": "stdout",
     "output_type": "stream",
     "text": [
      "The code at row 356 was not found in the dataframe.\n",
      "The code at row 622 was not found in the dataframe.\n",
      "The code at row 1391 was not found in the dataframe.\n",
      "The code at row 1579 was not found in the dataframe.\n"
     ]
    },
    {
     "data": {
      "text/plain": [
       "                                                     id  count_times  \\\n",
       "0     b'gAAAAABoiysvPrdwj063d25wMNQyBpBt2qoCJbmuzJVN...            1   \n",
       "1     b'gAAAAABoiysvFbfVUWfLDGyf5V81rn8CdNBWLeE-JeOg...            2   \n",
       "2     b'gAAAAABoiysvoI_x0YsGPp0sXJRcLMlNFdfK0QIYF1Qw...            2   \n",
       "3     b'gAAAAABoiysv339wZSJvgx4iLwBtUUjKjSa-kCiwH64v...            1   \n",
       "4     b'gAAAAABoiysveEixGGe__Nmh4QXsbiTNlVlF2uvd0BmG...            1   \n",
       "...                                                 ...          ...   \n",
       "3494  b'gAAAAABoiysvNrBpyCPckSKly2qwn2YioTLdHa4CyAc5...            1   \n",
       "3495  b'gAAAAABoiysvW4oxBpit64yGyGzQtlDTVGqo_dXr0va1...            1   \n",
       "3496  b'gAAAAABoiysvzQFuslaE1tTOYT3FAShmKmhn1IeFauvY...            1   \n",
       "3497  b'gAAAAABoiysvzRt9ep6iv3l9x8ros449Qa6fgD21WGcY...            1   \n",
       "3498  b'gAAAAABoiysvhp3jY-5DGbiE6-eag2e3f9AgQMOomIjz...            1   \n",
       "\n",
       "     time_label   age     sex     cost specimen_type           source  \\\n",
       "0        time_1  54.0  Female   8890.0         Blood           Plasma   \n",
       "1        time_1  60.0  Female   3590.0         Blood           Plasma   \n",
       "2        time_2  60.0  Female   3590.0         Blood           Plasma   \n",
       "3        time_1  79.0  Female   3590.0         Blood           Plasma   \n",
       "4        time_1  71.0  Female   7410.0          FFPE             Lung   \n",
       "...         ...   ...     ...      ...           ...              ...   \n",
       "3494     time_1  75.0  Female   7410.0          FFPE             Lung   \n",
       "3495     time_1  60.0    Male   7410.0          FFPE  Bronchus tissue   \n",
       "3496     time_1  49.0    Male   7410.0          FFPE       Lymph node   \n",
       "3497     time_1  69.0  Female   7410.0          FFPE   Pleural nodule   \n",
       "3498     time_1  69.0    Male  17000.0          FFPE  Left iliac bone   \n",
       "\n",
       "      tumor_percentage             diagnosis_group  ... EGFR T790M mutation  \\\n",
       "0                  NaN                 Lung cancer  ...                 NaN   \n",
       "1                  NaN  Non small cell lung cancer  ...          [No T790M]   \n",
       "2                  NaN                 Lung cancer  ...          [No T790M]   \n",
       "3                  NaN                 Lung cancer  ...          [No T790M]   \n",
       "4                 30.0                 Lung cancer  ...                 NaN   \n",
       "...                ...                         ...  ...                 ...   \n",
       "3494              20.0                 Lung cancer  ...                 NaN   \n",
       "3495               5.0                 Lung cancer  ...                 NaN   \n",
       "3496              70.0                 Lung cancer  ...                 NaN   \n",
       "3497              95.0  Non small cell lung cancer  ...                 NaN   \n",
       "3498              25.0  Non small cell lung cancer  ...                 NaN   \n",
       "\n",
       "     Lung cancer actionable mutation panel Lung cancer fusion BRAF mutation  \\\n",
       "0                                      NaN                NaN           NaN   \n",
       "1                                      NaN                NaN           NaN   \n",
       "2                                      NaN                NaN           NaN   \n",
       "3                                      NaN                NaN           NaN   \n",
       "4                                      NaN                NaN           NaN   \n",
       "...                                    ...                ...           ...   \n",
       "3494                                   NaN                NaN           NaN   \n",
       "3495                                   NaN                NaN           NaN   \n",
       "3496                                   NaN                NaN           NaN   \n",
       "3497                                   NaN                NaN           NaN   \n",
       "3498            [ALK expression imbalance]         [Negative]           NaN   \n",
       "\n",
       "     T790M mutation KRAS reflex NRAS/BRAF mutation  \\\n",
       "0               NaN                            NaN   \n",
       "1               NaN                            NaN   \n",
       "2               NaN                            NaN   \n",
       "3               NaN                            NaN   \n",
       "4               NaN                            NaN   \n",
       "...             ...                            ...   \n",
       "3494            NaN                            NaN   \n",
       "3495            NaN                            NaN   \n",
       "3496            NaN                            NaN   \n",
       "3497            NaN                            NaN   \n",
       "3498            NaN                            NaN   \n",
       "\n",
       "     Comprehensive EGFR mutation panel KRAS,NRAS and BRAF mutation  \\\n",
       "0                                  NaN                         NaN   \n",
       "1                                  NaN                         NaN   \n",
       "2                                  NaN                         NaN   \n",
       "3                                  NaN                         NaN   \n",
       "4                                  NaN                         NaN   \n",
       "...                                ...                         ...   \n",
       "3494                               NaN                         NaN   \n",
       "3495                               NaN                         NaN   \n",
       "3496                               NaN                         NaN   \n",
       "3497                               NaN                         NaN   \n",
       "3498                               NaN                         NaN   \n",
       "\n",
       "     EGFR mutation and Lung cancer actionable mutation panel KRAS mutation  \n",
       "0                                                   NaN                NaN  \n",
       "1                                                   NaN                NaN  \n",
       "2                                                   NaN                NaN  \n",
       "3                                                   NaN                NaN  \n",
       "4                                                   NaN                NaN  \n",
       "...                                                 ...                ...  \n",
       "3494                                                NaN                NaN  \n",
       "3495                                                NaN                NaN  \n",
       "3496                                                NaN                NaN  \n",
       "3497                                                NaN                NaN  \n",
       "3498                                                NaN                NaN  \n",
       "\n",
       "[3499 rows x 21 columns]"
      ],
      "text/html": [
       "<div>\n",
       "<style scoped>\n",
       "    .dataframe tbody tr th:only-of-type {\n",
       "        vertical-align: middle;\n",
       "    }\n",
       "\n",
       "    .dataframe tbody tr th {\n",
       "        vertical-align: top;\n",
       "    }\n",
       "\n",
       "    .dataframe thead th {\n",
       "        text-align: right;\n",
       "    }\n",
       "</style>\n",
       "<table border=\"1\" class=\"dataframe\">\n",
       "  <thead>\n",
       "    <tr style=\"text-align: right;\">\n",
       "      <th></th>\n",
       "      <th>id</th>\n",
       "      <th>count_times</th>\n",
       "      <th>time_label</th>\n",
       "      <th>age</th>\n",
       "      <th>sex</th>\n",
       "      <th>cost</th>\n",
       "      <th>specimen_type</th>\n",
       "      <th>source</th>\n",
       "      <th>tumor_percentage</th>\n",
       "      <th>diagnosis_group</th>\n",
       "      <th>...</th>\n",
       "      <th>EGFR T790M mutation</th>\n",
       "      <th>Lung cancer actionable mutation panel</th>\n",
       "      <th>Lung cancer fusion</th>\n",
       "      <th>BRAF mutation</th>\n",
       "      <th>T790M mutation</th>\n",
       "      <th>KRAS reflex NRAS/BRAF mutation</th>\n",
       "      <th>Comprehensive EGFR mutation panel</th>\n",
       "      <th>KRAS,NRAS and BRAF mutation</th>\n",
       "      <th>EGFR mutation and Lung cancer actionable mutation panel</th>\n",
       "      <th>KRAS mutation</th>\n",
       "    </tr>\n",
       "  </thead>\n",
       "  <tbody>\n",
       "    <tr>\n",
       "      <th>0</th>\n",
       "      <td>b'gAAAAABoiysvPrdwj063d25wMNQyBpBt2qoCJbmuzJVN...</td>\n",
       "      <td>1</td>\n",
       "      <td>time_1</td>\n",
       "      <td>54.0</td>\n",
       "      <td>Female</td>\n",
       "      <td>8890.0</td>\n",
       "      <td>Blood</td>\n",
       "      <td>Plasma</td>\n",
       "      <td>NaN</td>\n",
       "      <td>Lung cancer</td>\n",
       "      <td>...</td>\n",
       "      <td>NaN</td>\n",
       "      <td>NaN</td>\n",
       "      <td>NaN</td>\n",
       "      <td>NaN</td>\n",
       "      <td>NaN</td>\n",
       "      <td>NaN</td>\n",
       "      <td>NaN</td>\n",
       "      <td>NaN</td>\n",
       "      <td>NaN</td>\n",
       "      <td>NaN</td>\n",
       "    </tr>\n",
       "    <tr>\n",
       "      <th>1</th>\n",
       "      <td>b'gAAAAABoiysvFbfVUWfLDGyf5V81rn8CdNBWLeE-JeOg...</td>\n",
       "      <td>2</td>\n",
       "      <td>time_1</td>\n",
       "      <td>60.0</td>\n",
       "      <td>Female</td>\n",
       "      <td>3590.0</td>\n",
       "      <td>Blood</td>\n",
       "      <td>Plasma</td>\n",
       "      <td>NaN</td>\n",
       "      <td>Non small cell lung cancer</td>\n",
       "      <td>...</td>\n",
       "      <td>[No T790M]</td>\n",
       "      <td>NaN</td>\n",
       "      <td>NaN</td>\n",
       "      <td>NaN</td>\n",
       "      <td>NaN</td>\n",
       "      <td>NaN</td>\n",
       "      <td>NaN</td>\n",
       "      <td>NaN</td>\n",
       "      <td>NaN</td>\n",
       "      <td>NaN</td>\n",
       "    </tr>\n",
       "    <tr>\n",
       "      <th>2</th>\n",
       "      <td>b'gAAAAABoiysvoI_x0YsGPp0sXJRcLMlNFdfK0QIYF1Qw...</td>\n",
       "      <td>2</td>\n",
       "      <td>time_2</td>\n",
       "      <td>60.0</td>\n",
       "      <td>Female</td>\n",
       "      <td>3590.0</td>\n",
       "      <td>Blood</td>\n",
       "      <td>Plasma</td>\n",
       "      <td>NaN</td>\n",
       "      <td>Lung cancer</td>\n",
       "      <td>...</td>\n",
       "      <td>[No T790M]</td>\n",
       "      <td>NaN</td>\n",
       "      <td>NaN</td>\n",
       "      <td>NaN</td>\n",
       "      <td>NaN</td>\n",
       "      <td>NaN</td>\n",
       "      <td>NaN</td>\n",
       "      <td>NaN</td>\n",
       "      <td>NaN</td>\n",
       "      <td>NaN</td>\n",
       "    </tr>\n",
       "    <tr>\n",
       "      <th>3</th>\n",
       "      <td>b'gAAAAABoiysv339wZSJvgx4iLwBtUUjKjSa-kCiwH64v...</td>\n",
       "      <td>1</td>\n",
       "      <td>time_1</td>\n",
       "      <td>79.0</td>\n",
       "      <td>Female</td>\n",
       "      <td>3590.0</td>\n",
       "      <td>Blood</td>\n",
       "      <td>Plasma</td>\n",
       "      <td>NaN</td>\n",
       "      <td>Lung cancer</td>\n",
       "      <td>...</td>\n",
       "      <td>[No T790M]</td>\n",
       "      <td>NaN</td>\n",
       "      <td>NaN</td>\n",
       "      <td>NaN</td>\n",
       "      <td>NaN</td>\n",
       "      <td>NaN</td>\n",
       "      <td>NaN</td>\n",
       "      <td>NaN</td>\n",
       "      <td>NaN</td>\n",
       "      <td>NaN</td>\n",
       "    </tr>\n",
       "    <tr>\n",
       "      <th>4</th>\n",
       "      <td>b'gAAAAABoiysveEixGGe__Nmh4QXsbiTNlVlF2uvd0BmG...</td>\n",
       "      <td>1</td>\n",
       "      <td>time_1</td>\n",
       "      <td>71.0</td>\n",
       "      <td>Female</td>\n",
       "      <td>7410.0</td>\n",
       "      <td>FFPE</td>\n",
       "      <td>Lung</td>\n",
       "      <td>30.0</td>\n",
       "      <td>Lung cancer</td>\n",
       "      <td>...</td>\n",
       "      <td>NaN</td>\n",
       "      <td>NaN</td>\n",
       "      <td>NaN</td>\n",
       "      <td>NaN</td>\n",
       "      <td>NaN</td>\n",
       "      <td>NaN</td>\n",
       "      <td>NaN</td>\n",
       "      <td>NaN</td>\n",
       "      <td>NaN</td>\n",
       "      <td>NaN</td>\n",
       "    </tr>\n",
       "    <tr>\n",
       "      <th>...</th>\n",
       "      <td>...</td>\n",
       "      <td>...</td>\n",
       "      <td>...</td>\n",
       "      <td>...</td>\n",
       "      <td>...</td>\n",
       "      <td>...</td>\n",
       "      <td>...</td>\n",
       "      <td>...</td>\n",
       "      <td>...</td>\n",
       "      <td>...</td>\n",
       "      <td>...</td>\n",
       "      <td>...</td>\n",
       "      <td>...</td>\n",
       "      <td>...</td>\n",
       "      <td>...</td>\n",
       "      <td>...</td>\n",
       "      <td>...</td>\n",
       "      <td>...</td>\n",
       "      <td>...</td>\n",
       "      <td>...</td>\n",
       "      <td>...</td>\n",
       "    </tr>\n",
       "    <tr>\n",
       "      <th>3494</th>\n",
       "      <td>b'gAAAAABoiysvNrBpyCPckSKly2qwn2YioTLdHa4CyAc5...</td>\n",
       "      <td>1</td>\n",
       "      <td>time_1</td>\n",
       "      <td>75.0</td>\n",
       "      <td>Female</td>\n",
       "      <td>7410.0</td>\n",
       "      <td>FFPE</td>\n",
       "      <td>Lung</td>\n",
       "      <td>20.0</td>\n",
       "      <td>Lung cancer</td>\n",
       "      <td>...</td>\n",
       "      <td>NaN</td>\n",
       "      <td>NaN</td>\n",
       "      <td>NaN</td>\n",
       "      <td>NaN</td>\n",
       "      <td>NaN</td>\n",
       "      <td>NaN</td>\n",
       "      <td>NaN</td>\n",
       "      <td>NaN</td>\n",
       "      <td>NaN</td>\n",
       "      <td>NaN</td>\n",
       "    </tr>\n",
       "    <tr>\n",
       "      <th>3495</th>\n",
       "      <td>b'gAAAAABoiysvW4oxBpit64yGyGzQtlDTVGqo_dXr0va1...</td>\n",
       "      <td>1</td>\n",
       "      <td>time_1</td>\n",
       "      <td>60.0</td>\n",
       "      <td>Male</td>\n",
       "      <td>7410.0</td>\n",
       "      <td>FFPE</td>\n",
       "      <td>Bronchus tissue</td>\n",
       "      <td>5.0</td>\n",
       "      <td>Lung cancer</td>\n",
       "      <td>...</td>\n",
       "      <td>NaN</td>\n",
       "      <td>NaN</td>\n",
       "      <td>NaN</td>\n",
       "      <td>NaN</td>\n",
       "      <td>NaN</td>\n",
       "      <td>NaN</td>\n",
       "      <td>NaN</td>\n",
       "      <td>NaN</td>\n",
       "      <td>NaN</td>\n",
       "      <td>NaN</td>\n",
       "    </tr>\n",
       "    <tr>\n",
       "      <th>3496</th>\n",
       "      <td>b'gAAAAABoiysvzQFuslaE1tTOYT3FAShmKmhn1IeFauvY...</td>\n",
       "      <td>1</td>\n",
       "      <td>time_1</td>\n",
       "      <td>49.0</td>\n",
       "      <td>Male</td>\n",
       "      <td>7410.0</td>\n",
       "      <td>FFPE</td>\n",
       "      <td>Lymph node</td>\n",
       "      <td>70.0</td>\n",
       "      <td>Lung cancer</td>\n",
       "      <td>...</td>\n",
       "      <td>NaN</td>\n",
       "      <td>NaN</td>\n",
       "      <td>NaN</td>\n",
       "      <td>NaN</td>\n",
       "      <td>NaN</td>\n",
       "      <td>NaN</td>\n",
       "      <td>NaN</td>\n",
       "      <td>NaN</td>\n",
       "      <td>NaN</td>\n",
       "      <td>NaN</td>\n",
       "    </tr>\n",
       "    <tr>\n",
       "      <th>3497</th>\n",
       "      <td>b'gAAAAABoiysvzRt9ep6iv3l9x8ros449Qa6fgD21WGcY...</td>\n",
       "      <td>1</td>\n",
       "      <td>time_1</td>\n",
       "      <td>69.0</td>\n",
       "      <td>Female</td>\n",
       "      <td>7410.0</td>\n",
       "      <td>FFPE</td>\n",
       "      <td>Pleural nodule</td>\n",
       "      <td>95.0</td>\n",
       "      <td>Non small cell lung cancer</td>\n",
       "      <td>...</td>\n",
       "      <td>NaN</td>\n",
       "      <td>NaN</td>\n",
       "      <td>NaN</td>\n",
       "      <td>NaN</td>\n",
       "      <td>NaN</td>\n",
       "      <td>NaN</td>\n",
       "      <td>NaN</td>\n",
       "      <td>NaN</td>\n",
       "      <td>NaN</td>\n",
       "      <td>NaN</td>\n",
       "    </tr>\n",
       "    <tr>\n",
       "      <th>3498</th>\n",
       "      <td>b'gAAAAABoiysvhp3jY-5DGbiE6-eag2e3f9AgQMOomIjz...</td>\n",
       "      <td>1</td>\n",
       "      <td>time_1</td>\n",
       "      <td>69.0</td>\n",
       "      <td>Male</td>\n",
       "      <td>17000.0</td>\n",
       "      <td>FFPE</td>\n",
       "      <td>Left iliac bone</td>\n",
       "      <td>25.0</td>\n",
       "      <td>Non small cell lung cancer</td>\n",
       "      <td>...</td>\n",
       "      <td>NaN</td>\n",
       "      <td>[ALK expression imbalance]</td>\n",
       "      <td>[Negative]</td>\n",
       "      <td>NaN</td>\n",
       "      <td>NaN</td>\n",
       "      <td>NaN</td>\n",
       "      <td>NaN</td>\n",
       "      <td>NaN</td>\n",
       "      <td>NaN</td>\n",
       "      <td>NaN</td>\n",
       "    </tr>\n",
       "  </tbody>\n",
       "</table>\n",
       "<p>3499 rows × 21 columns</p>\n",
       "</div>"
      ]
     },
     "execution_count": 3,
     "metadata": {},
     "output_type": "execute_result"
    }
   ],
   "execution_count": 3
  },
  {
   "metadata": {
    "ExecuteTime": {
     "end_time": "2025-07-31T08:37:04.101804Z",
     "start_time": "2025-07-31T08:37:04.058744Z"
    }
   },
   "cell_type": "code",
   "source": [
    "from research_package.utility.count import Count\n",
    "unique_count = Count(normalized_df)\n",
    "unique_count.exact_unique_item()[\"EGFR mutation\"]"
   ],
   "id": "466c38f8d3ac9787",
   "outputs": [
    {
     "data": {
      "text/plain": [
       "{\"['Negative']\": 1294,\n",
       " 'nan': 1026,\n",
       " \"['BRAF-Negative']\": 168,\n",
       " \"['Ex 19 deletion ']\": 456,\n",
       " \"['L858R']\": 375,\n",
       " \"['L861Q']\": 20,\n",
       " \"['negative']\": 21,\n",
       " \"['G719X AND T790M']\": 1,\n",
       " \"['L858R AND T790M']\": 14,\n",
       " \"['Ex 19 deletion AND T790M']\": 11,\n",
       " \"['S768I and L858R']\": 5,\n",
       " \"['G719X']\": 15,\n",
       " \"['No T790M']\": 22,\n",
       " \"['T790M']\": 3,\n",
       " \"['S768I and G719X']\": 4,\n",
       " \"['L858R ']\": 1,\n",
       " \"['Ex20 Insertion']\": 32,\n",
       " \"['BRAF - Negative']\": 12,\n",
       " \"['Lung DNA - L858R \\\\nLung RNA - Negative']\": 1,\n",
       " \"['L858R, T790M AND Ex20 Insertion']\": 1,\n",
       " \"['BRAF - Positive V600E']\": 1,\n",
       " \"['G791A/C/s AND S768I']\": 1,\n",
       " \"['L861Q and G719X']\": 2,\n",
       " \"['Ex 19 deletion AND Ex20 Insertion']\": 3,\n",
       " \"['L858R AND Ex20 Insertion']\": 1,\n",
       " \"['S768I']\": 6,\n",
       " \"['G719A/C/S']\": 2,\n",
       " \"['Ex 19 deletion  AND G719X']\": 1}"
      ]
     },
     "execution_count": 4,
     "metadata": {},
     "output_type": "execute_result"
    }
   ],
   "execution_count": 4
  },
  {
   "metadata": {
    "ExecuteTime": {
     "end_time": "2025-07-31T08:37:04.182220Z",
     "start_time": "2025-07-31T08:37:04.162043Z"
    }
   },
   "cell_type": "code",
   "source": "unique_count.exact_unique_item()[\"EGFR T790M mutation\"]",
   "id": "388c33d15134d325",
   "outputs": [
    {
     "data": {
      "text/plain": [
       "{'nan': 2948,\n",
       " \"['No T790M']\": 210,\n",
       " \"['Ex 19 deletion AND T790M']\": 98,\n",
       " \"['Ex 19 deletion ']\": 30,\n",
       " \"['L858R AND T790M']\": 49,\n",
       " \"['T790M']\": 38,\n",
       " \"['L858R']\": 34,\n",
       " \"['Negative']\": 78,\n",
       " \"['negative']\": 1,\n",
       " \"['S768I, G719X and T790M']\": 1,\n",
       " \"['L858R and T790M']\": 2,\n",
       " \"['L858R, T790M AND Ex20 Insertion']\": 1,\n",
       " \"['T790M ; L861Q ; G719X']\": 1,\n",
       " \"['Ex19Del, T790M AND Ex20 Insertion']\": 1,\n",
       " \"['S768I']\": 2,\n",
       " \"['Ex 19 deletion AND Ex20 Insertion AND T790M']\": 1,\n",
       " \"['G719X AND T790M']\": 1,\n",
       " \"['L861Q']\": 2,\n",
       " \"['G719A/C/S']\": 1}"
      ]
     },
     "execution_count": 5,
     "metadata": {},
     "output_type": "execute_result"
    }
   ],
   "execution_count": 5
  },
  {
   "metadata": {
    "ExecuteTime": {
     "end_time": "2025-07-31T08:37:04.281280Z",
     "start_time": "2025-07-31T08:37:04.253007Z"
    }
   },
   "cell_type": "code",
   "source": "unique_count.exact_unique_item()[\"Lung cancer actionable mutation panel\"]",
   "id": "b8df830c01c20030",
   "outputs": [
    {
     "data": {
      "text/plain": [
       "{'nan': 3203,\n",
       " \"['Lung DNA - KRAS G12V  AND EGFR amplification\\\\nLung RNA - Negative']\": 1,\n",
       " \"['Lung DNA - EGFR Amplification AND MET Amplification\\\\nLung RNA - Negative']\": 1,\n",
       " \"['Lung DNA - Negative\\\\nLung RNA - Negative']\": 4,\n",
       " \"['Lung DNA - L858R\\\\nLung RNA - Negative']\": 5,\n",
       " \"['Negative']\": 167,\n",
       " \"['Ex 19 deletion ']\": 14,\n",
       " \"['Lung DNA - Ex19del and MET-Amplication \\\\nLung RNA negative']\": 2,\n",
       " \"['EGFR - Ex 19 deletion \\\\nBRAF - Positive V600E']\": 1,\n",
       " \"['Lung DNA - MET Amplification \\\\n Lung RNA - Negative']\": 1,\n",
       " \"['Lung DNA - Ex 19 deletion\\\\n Lung RNA - Negative']\": 3,\n",
       " \"['Lung DNA - L858R\\\\n Lung RNA - Negative']\": 2,\n",
       " \"['Ex 19 deletion \\\\nEGFR - C797S']\": 1,\n",
       " \"['Lung DNA-EGFR L858R  \\\\nLung RNA-Negative']\": 1,\n",
       " \"['Lung DNA -KRAS G12D \\\\nLung RNA - Negative']\": 1,\n",
       " \"['Lung DNA -EGFR Ex19Del \\\\nLung RNA - Negative']\": 1,\n",
       " \"['Lung DNA - L858R / L833V  \\\\nLung RNA - Negative']\": 1,\n",
       " \"['L858R']\": 19,\n",
       " \"['Lung DNA - Ex19Del \\\\nLung RNA - Negative']\": 1,\n",
       " \"['Lung DNA - KRAS G12V \\\\nLung RNA - Negative']\": 1,\n",
       " \"['Lung DNA - EGFR  G719S & E709A\\\\nLung RNA - Negative']\": 1,\n",
       " \"['Lung DNA - Ex19Del\\\\nLung RNA - Negative']\": 2,\n",
       " \"['Lung DNA - Negative \\\\nLung RNA - Negative']\": 2,\n",
       " \"['Lung DNA-L858R \\\\nLung RNA-Negative']\": 1,\n",
       " \"['Lung DNA-Met Amp. \\\\nLung RNA-Negative']\": 1,\n",
       " \"['KRAS - G12C']\": 1,\n",
       " \"['EGFR - L858R\\\\nLung cancer fusion - Neg']\": 1,\n",
       " \"['KRAS - G12V']\": 1,\n",
       " \"['KRAS - G13D']\": 1,\n",
       " \"['MET Amp-Positive']\": 1,\n",
       " \"['L861Q']\": 1,\n",
       " \"['Ex 19 deletion AND T790M']\": 1,\n",
       " \"['KRAS-G60D']\": 1,\n",
       " \"['KRAS -G12D\\\\n PIK3CA - E545K']\": 1,\n",
       " \"['Lung DNA - KRAS : G12C\\\\nLung RNA - Negative']\": 1,\n",
       " \"['Lung DNA ; EGFR - Ex19Del \\\\nLung RNA - Negative']\": 1,\n",
       " \"['KRAS-G12D\\\\nLung RNA - Negative']\": 1,\n",
       " \"['Ex20 Insertion']\": 2,\n",
       " \"['Ex 19 deletion AND L858R']\": 1,\n",
       " \"['MET-C.3082+2T>A']\": 1,\n",
       " \"['MET exon 14 skipping']\": 5,\n",
       " \"['Ex 19 deletion AND I706T']\": 1,\n",
       " \"['MET Ex14 Skipping']\": 1,\n",
       " \"['BRAF - Positive V600E']\": 1,\n",
       " \"['ALK fusion']\": 8,\n",
       " \"['MET Exon 14 Skipping']\": 1,\n",
       " \"['Ex 19 deletion AND MET amplification 20 copies']\": 1,\n",
       " \"['ALK expression imbalance']\": 3,\n",
       " \"['NTRK1 expression imbalance']\": 1,\n",
       " \"['ROS1 fusion']\": 4,\n",
       " \"['L858R AND L718Q']\": 2,\n",
       " \"['L858R AND A289V']\": 1,\n",
       " \"['KRAS-G12V']\": 2,\n",
       " \"['NTRK3 expression imbalance']\": 1,\n",
       " \"['KRAS-G12C']\": 2,\n",
       " \"['NTRK3 expression imbalance equivocal']\": 4,\n",
       " \"['BRAF - L597R\\\\nPIK3CA - N345K']\": 1,\n",
       " \"['NTRK3 expression imbalance: Equivocal']\": 5,\n",
       " \"['G776S and V777_G778insCM (exon 20 insertion)']\": 1,\n",
       " \"['KRAS-T58I']\": 1}"
      ]
     },
     "execution_count": 6,
     "metadata": {},
     "output_type": "execute_result"
    }
   ],
   "execution_count": 6
  },
  {
   "metadata": {
    "ExecuteTime": {
     "end_time": "2025-07-31T08:37:04.379216Z",
     "start_time": "2025-07-31T08:37:04.331841Z"
    }
   },
   "cell_type": "code",
   "source": "unique_count.exact_unique_item()[\"Lung cancer fusion\"]",
   "id": "702ef0d993a1c2e3",
   "outputs": [
    {
     "data": {
      "text/plain": [
       "{'nan': 3157,\n",
       " '[nan]': 42,\n",
       " \"['Negative']\": 170,\n",
       " \"['NTRK3 expression imbalance equivocal']\": 4,\n",
       " \"['Lung DNA - L861Q\\\\nLung RNA - Neg']\": 1,\n",
       " \"['Lung cancer fusion - Negative']\": 1,\n",
       " \"['ROS1 fusion']\": 13,\n",
       " \"['NTRK1 expression imbalance']\": 2,\n",
       " \"['Lung RNA - Negative']\": 1,\n",
       " \"['Fusion - Negative']\": 2,\n",
       " \"['Ex 19 deletion ']\": 39,\n",
       " \"['No T790M']\": 1,\n",
       " \"['L858R']\": 41,\n",
       " \"['MET exon 14 skipping']\": 1,\n",
       " \"['MET ex14 skipping']\": 1,\n",
       " \"['Ex 19 deletion AND T790M']\": 1,\n",
       " \"['Ex20 Insertion']\": 4,\n",
       " \"['NTRK3 expression imbalance: Equivocal']\": 5,\n",
       " \"['RET fuion']\": 1,\n",
       " \"['ALK expression imbalance']\": 4,\n",
       " \"['ALK fusion']\": 3,\n",
       " \"['ROS1 expression imbalance']\": 1,\n",
       " \"['RET fusion']\": 1,\n",
       " \"['L861Q']\": 2,\n",
       " \"['ROS1 fusion AND RET fusion']\": 1}"
      ]
     },
     "execution_count": 7,
     "metadata": {},
     "output_type": "execute_result"
    }
   ],
   "execution_count": 7
  },
  {
   "metadata": {
    "ExecuteTime": {
     "end_time": "2025-07-31T08:37:04.424757Z",
     "start_time": "2025-07-31T08:37:04.401195Z"
    }
   },
   "cell_type": "code",
   "source": "unique_count.exact_unique_item()[\"BRAF mutation\"]",
   "id": "c40421c4b0cfb1ef",
   "outputs": [
    {
     "data": {
      "text/plain": [
       "{'nan': 3305,\n",
       " \"['Negative']\": 108,\n",
       " \"['L858R']\": 34,\n",
       " \"['Ex 19 deletion ']\": 30,\n",
       " \"['BRAF-Negative']\": 7,\n",
       " \"['negative']\": 5,\n",
       " \"['L861Q and G719X']\": 2,\n",
       " \"['Ex20 Insertion']\": 1,\n",
       " \"['G719X']\": 1,\n",
       " \"['L858R AND Ex20 Insertion']\": 1,\n",
       " \"['L858R AND T790M']\": 1,\n",
       " \"['S768I']\": 1,\n",
       " \"['L861Q']\": 1,\n",
       " \"['Ex 19 deletion AND T790M']\": 1,\n",
       " \"['Ex 19 deletion AND Ex20 Insertion']\": 1}"
      ]
     },
     "execution_count": 8,
     "metadata": {},
     "output_type": "execute_result"
    }
   ],
   "execution_count": 8
  },
  {
   "metadata": {
    "ExecuteTime": {
     "end_time": "2025-07-31T08:37:04.499624Z",
     "start_time": "2025-07-31T08:37:04.477268Z"
    }
   },
   "cell_type": "code",
   "source": "unique_count.exact_unique_item()[\"KRAS reflex NRAS/BRAF mutation\"]",
   "id": "1e266ab6f45c975",
   "outputs": [
    {
     "data": {
      "text/plain": [
       "{'nan': 3497, \"['KRAS-G12D']\": 1, \"['KRAS-G12C']\": 1}"
      ]
     },
     "execution_count": 9,
     "metadata": {},
     "output_type": "execute_result"
    }
   ],
   "execution_count": 9
  },
  {
   "metadata": {
    "ExecuteTime": {
     "end_time": "2025-07-31T08:37:04.601593Z",
     "start_time": "2025-07-31T08:37:04.558839Z"
    }
   },
   "cell_type": "code",
   "source": "unique_count.exact_unique_item()[\"Comprehensive EGFR mutation panel\"]",
   "id": "f75ed224a3567ad0",
   "outputs": [
    {
     "data": {
      "text/plain": [
       "{'nan': 3453,\n",
       " \"['Negative']\": 24,\n",
       " \"['Ex 19 deletion ']\": 7,\n",
       " \"['Ex 19 deletion AND MET']\": 1,\n",
       " \"['L858R and L833V']\": 1,\n",
       " \"['KRAS-G12C']\": 2,\n",
       " \"['EGFR-G598V']\": 1,\n",
       " \"['EGFR-Amplification ERBB2-Amplification']\": 1,\n",
       " \"['Ex 19 deletion AND T790M']\": 1,\n",
       " \"['Ex20 Insertion']\": 1,\n",
       " \"['EGFR - R776H']\": 1,\n",
       " \"['KRAS-G12A']\": 1,\n",
       " \"['L858R']\": 1,\n",
       " \"['KRAS-G12V']\": 2,\n",
       " \"['EGFR-Negative']\": 1,\n",
       " \"['ALK fusion']\": 1}"
      ]
     },
     "execution_count": 10,
     "metadata": {},
     "output_type": "execute_result"
    }
   ],
   "execution_count": 10
  },
  {
   "metadata": {
    "ExecuteTime": {
     "end_time": "2025-07-31T08:37:04.673741Z",
     "start_time": "2025-07-31T08:37:04.645388Z"
    }
   },
   "cell_type": "code",
   "source": "unique_count.exact_unique_item()[\"KRAS,NRAS and BRAF mutation\"]",
   "id": "79f5436ba844b7a1",
   "outputs": [
    {
     "data": {
      "text/plain": [
       "{'nan': 3498, \"['KRAS - G12V \\\\nNRAS/BRAF - Negative']\": 1}"
      ]
     },
     "execution_count": 11,
     "metadata": {},
     "output_type": "execute_result"
    }
   ],
   "execution_count": 11
  },
  {
   "metadata": {
    "ExecuteTime": {
     "end_time": "2025-07-31T08:37:04.781165Z",
     "start_time": "2025-07-31T08:37:04.741678Z"
    }
   },
   "cell_type": "code",
   "source": "unique_count.exact_unique_item()[\"EGFR mutation and Lung cancer actionable mutation panel\"]",
   "id": "d16c6eba9860fe25",
   "outputs": [
    {
     "data": {
      "text/plain": [
       "{'nan': 3497, \"['Negative']\": 2}"
      ]
     },
     "execution_count": 12,
     "metadata": {},
     "output_type": "execute_result"
    }
   ],
   "execution_count": 12
  },
  {
   "metadata": {
    "ExecuteTime": {
     "end_time": "2025-07-31T08:37:04.835319Z",
     "start_time": "2025-07-31T08:37:04.804117Z"
    }
   },
   "cell_type": "code",
   "source": "unique_count.exact_unique_item()[\"KRAS mutation\"]",
   "id": "3e874fb31e67b5d0",
   "outputs": [
    {
     "data": {
      "text/plain": [
       "{'nan': 3495, \"['Negative']\": 3, \"['KRAS-G12D']\": 1}"
      ]
     },
     "execution_count": 13,
     "metadata": {},
     "output_type": "execute_result"
    }
   ],
   "execution_count": 13
  }
 ],
 "metadata": {
  "kernelspec": {
   "display_name": "Python 3",
   "language": "python",
   "name": "python3"
  },
  "language_info": {
   "codemirror_mode": {
    "name": "ipython",
    "version": 2
   },
   "file_extension": ".py",
   "mimetype": "text/x-python",
   "name": "python",
   "nbconvert_exporter": "python",
   "pygments_lexer": "ipython2",
   "version": "2.7.6"
  }
 },
 "nbformat": 4,
 "nbformat_minor": 5
}
